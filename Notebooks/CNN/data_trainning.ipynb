{
  "nbformat": 4,
  "nbformat_minor": 0,
  "metadata": {
    "colab": {
      "name": "data_trainning.ipynb",
      "provenance": [],
      "collapsed_sections": [],
      "include_colab_link": true
    },
    "kernelspec": {
      "name": "python3",
      "display_name": "Python 3"
    }
  },
  "cells": [
    {
      "cell_type": "markdown",
      "metadata": {
        "id": "view-in-github",
        "colab_type": "text"
      },
      "source": [
        "<a href=\"https://colab.research.google.com/github/jacr2006/AICamera/blob/master/Notebooks/CNN/data_trainning.ipynb\" target=\"_parent\"><img src=\"https://colab.research.google.com/assets/colab-badge.svg\" alt=\"Open In Colab\"/></a>"
      ]
    },
    {
      "cell_type": "markdown",
      "metadata": {
        "id": "YQfos1QVzkK8"
      },
      "source": [
        "This notebook extract mid-term features from labeled audio files (.wav), and create a matrix of features and a vector of classes. Next, a trainning using a CNN is done. The model obtained is used for testing."
      ]
    },
    {
      "cell_type": "code",
      "metadata": {
        "id": "jn4ZdW95auL6",
        "colab": {
          "base_uri": "https://localhost:8080/"
        },
        "outputId": "5cfa28e8-b6e5-402a-f94b-719adb33d4dc"
      },
      "source": [
        "pip install torchaudio"
      ],
      "execution_count": null,
      "outputs": [
        {
          "output_type": "stream",
          "text": [
            "Collecting torchaudio\n",
            "\u001b[?25l  Downloading https://files.pythonhosted.org/packages/2a/f9/618434cf4e46dc975871e1516f5499abef6564ab4366f9b2321ee536be14/torchaudio-0.7.2-cp36-cp36m-manylinux1_x86_64.whl (7.6MB)\n",
            "\u001b[K     |████████████████████████████████| 7.6MB 7.4MB/s \n",
            "\u001b[?25hCollecting torch==1.7.1\n",
            "\u001b[?25l  Downloading https://files.pythonhosted.org/packages/90/4f/acf48b3a18a8f9223c6616647f0a011a5713a985336088d7c76f3a211374/torch-1.7.1-cp36-cp36m-manylinux1_x86_64.whl (776.8MB)\n",
            "\u001b[K     |████████████████████████████████| 776.8MB 23kB/s \n",
            "\u001b[?25hRequirement already satisfied: dataclasses; python_version < \"3.7\" in /usr/local/lib/python3.6/dist-packages (from torch==1.7.1->torchaudio) (0.8)\n",
            "Requirement already satisfied: numpy in /usr/local/lib/python3.6/dist-packages (from torch==1.7.1->torchaudio) (1.19.5)\n",
            "Requirement already satisfied: typing-extensions in /usr/local/lib/python3.6/dist-packages (from torch==1.7.1->torchaudio) (3.7.4.3)\n",
            "\u001b[31mERROR: torchvision 0.8.1+cu101 has requirement torch==1.7.0, but you'll have torch 1.7.1 which is incompatible.\u001b[0m\n",
            "Installing collected packages: torch, torchaudio\n",
            "  Found existing installation: torch 1.7.0+cu101\n",
            "    Uninstalling torch-1.7.0+cu101:\n",
            "      Successfully uninstalled torch-1.7.0+cu101\n",
            "Successfully installed torch-1.7.1 torchaudio-0.7.2\n"
          ],
          "name": "stdout"
        }
      ]
    },
    {
      "cell_type": "code",
      "metadata": {
        "id": "hQjlXU_-a2q-",
        "colab": {
          "base_uri": "https://localhost:8080/"
        },
        "outputId": "3222b999-8dde-49b2-fa9b-c5855b95536b"
      },
      "source": [
        "import torchaudio.transforms\r\n",
        "import torch\r\n",
        "\r\n",
        "import matplotlib.pyplot as plt\r\n",
        "import os\r\n",
        "import numpy as np\r\n",
        "import pandas as pd\r\n",
        "import IPython.display as ipd\r\n",
        "\r\n",
        "import shutil\r\n",
        "\r\n",
        "import librosa\r\n",
        "\r\n",
        "from sklearn.model_selection import train_test_split\r\n",
        "from sklearn import svm\r\n",
        "from sklearn.svm import SVC\r\n",
        "from sklearn import metrics\r\n",
        "from sklearn import preprocessing\r\n",
        "\r\n",
        "import pickle\r\n",
        "\r\n",
        "from tensorflow import keras\r\n",
        "from tensorflow.keras import layers"
      ],
      "execution_count": null,
      "outputs": [
        {
          "output_type": "stream",
          "text": [
            "/usr/local/lib/python3.6/dist-packages/torchaudio/backend/utils.py:54: UserWarning: \"sox\" backend is being deprecated. The default backend will be changed to \"sox_io\" backend in 0.8.0 and \"sox\" backend will be removed in 0.9.0. Please migrate to \"sox_io\" backend. Please refer to https://github.com/pytorch/audio/issues/903 for the detail.\n",
            "  '\"sox\" backend is being deprecated. '\n"
          ],
          "name": "stderr"
        }
      ]
    },
    {
      "cell_type": "code",
      "metadata": {
        "id": "hiJk1zD2L2-G",
        "colab": {
          "base_uri": "https://localhost:8080/"
        },
        "outputId": "f83886d2-c9f7-4862-da41-b64f9fb5367f"
      },
      "source": [
        "from google.colab import drive\n",
        "drive.mount('/content/drive')"
      ],
      "execution_count": null,
      "outputs": [
        {
          "output_type": "stream",
          "text": [
            "Mounted at /content/drive\n"
          ],
          "name": "stdout"
        }
      ]
    },
    {
      "cell_type": "code",
      "metadata": {
        "id": "CGbZT1PLEkdR"
      },
      "source": [
        "# source file directory\n",
        "PATH_DRIVE = '/content/drive/MyDrive/Colab Notebooks/'"
      ],
      "execution_count": null,
      "outputs": []
    },
    {
      "cell_type": "markdown",
      "metadata": {
        "id": "r2Ya894jJ8Bj"
      },
      "source": [
        "## Training"
      ]
    },
    {
      "cell_type": "code",
      "metadata": {
        "id": "dJR9DrlsTzXe"
      },
      "source": [
        "f = np.load(PATH_DRIVE + \"f.npy\", allow_pickle=True)\r\n",
        "f_avg = np.load(PATH_DRIVE + \"f_avg.npy\", allow_pickle=True)\r\n",
        "c = np.load(PATH_DRIVE + \"c.npy\", allow_pickle=True)"
      ],
      "execution_count": null,
      "outputs": []
    },
    {
      "cell_type": "code",
      "metadata": {
        "colab": {
          "base_uri": "https://localhost:8080/"
        },
        "id": "M_94dJNOZ85L",
        "outputId": "c54edc73-f330-4fd8-e8f9-dee9953b8275"
      },
      "source": [
        "f.shape"
      ],
      "execution_count": null,
      "outputs": [
        {
          "output_type": "execute_result",
          "data": {
            "text/plain": [
              "(1267, 173, 40)"
            ]
          },
          "metadata": {
            "tags": []
          },
          "execution_count": 7
        }
      ]
    },
    {
      "cell_type": "code",
      "metadata": {
        "id": "yb44N615eJcN"
      },
      "source": [
        "#from sklearn.preprocessing import StandardScaler\r\n",
        "\r\n",
        "#ss = StandardScaler()\r\n",
        "#ff = ss.fit_transform(f.reshape(-1, f.shape[-1])).reshape(f.shape)"
      ],
      "execution_count": null,
      "outputs": []
    },
    {
      "cell_type": "code",
      "metadata": {
        "id": "kVm-ouhokU9E"
      },
      "source": [
        "#data standarization\n",
        "#ff = preprocessing.scale(f)\n",
        "\n",
        "#data scalling (min-max) for improve prediction accurancy\n",
        "#min_max_scaler = preprocessing.MinMaxScaler()\n",
        "#ff = min_max_scaler.fit_transform( f.reshape(-1, f.shape[-1]) ).reshape(f.shape)"
      ],
      "execution_count": null,
      "outputs": []
    },
    {
      "cell_type": "code",
      "metadata": {
        "id": "nqep5A9ia1vh"
      },
      "source": [
        "#ff.shape"
      ],
      "execution_count": null,
      "outputs": []
    },
    {
      "cell_type": "code",
      "metadata": {
        "colab": {
          "base_uri": "https://localhost:8080/"
        },
        "id": "UB2pZhp3xwmI",
        "outputId": "f46e71b2-c6ae-4dde-c354-93aa908d54d3"
      },
      "source": [
        "from sklearn.preprocessing import LabelEncoder\r\n",
        "from keras.utils import to_categorical\r\n",
        "from keras.regularizers import l2\r\n",
        "\r\n",
        "# Encode the classification labels to one-hot\r\n",
        "le = LabelEncoder()\r\n",
        "cc = to_categorical(le.fit_transform(c)) \r\n",
        "cc.shape"
      ],
      "execution_count": null,
      "outputs": [
        {
          "output_type": "execute_result",
          "data": {
            "text/plain": [
              "(1267, 10)"
            ]
          },
          "metadata": {
            "tags": []
          },
          "execution_count": 11
        }
      ]
    },
    {
      "cell_type": "code",
      "metadata": {
        "id": "TLFJGHW_yN7r"
      },
      "source": [
        "# Classes according Urban Dataset\r\n",
        "num_classes = 10"
      ],
      "execution_count": null,
      "outputs": []
    },
    {
      "cell_type": "code",
      "metadata": {
        "id": "_wa1j-SdDgn7"
      },
      "source": [
        "# Training and test split \r\n",
        "X_train, X_test, y_train, y_test = train_test_split(f, cc, test_size=0.05,random_state=0) # 95% for training - 5% for  testing"
      ],
      "execution_count": null,
      "outputs": []
    },
    {
      "cell_type": "code",
      "metadata": {
        "colab": {
          "base_uri": "https://localhost:8080/"
        },
        "id": "DYFvEBHZHFoE",
        "outputId": "23960540-bf3e-47a3-a755-75f3bd6a05d2"
      },
      "source": [
        "print( X_train.shape )\r\n",
        "print( X_test.shape )"
      ],
      "execution_count": null,
      "outputs": [
        {
          "output_type": "stream",
          "text": [
            "(1203, 173, 40)\n",
            "(64, 173, 40)\n"
          ],
          "name": "stdout"
        }
      ]
    },
    {
      "cell_type": "code",
      "metadata": {
        "colab": {
          "base_uri": "https://localhost:8080/",
          "height": 160
        },
        "id": "7_mazvemp2CF",
        "outputId": "a62d74d7-39a9-4f59-bfed-9eb39c054e03"
      },
      "source": [
        "# Model\r\n",
        "\r\n",
        "\r\n",
        "# cnn model\r\n",
        "\r\n",
        "X_train = np.expand_dims(X_train, axis=3)\r\n",
        "print( X_train.shape )\r\n",
        "X_test = np.expand_dims(X_test, axis=3)\r\n",
        "print( X_test.shape )\r\n",
        "\r\n",
        "input_shape = ( X_train.shape[1], X_train.shape[2], 1  )\r\n",
        "\r\n",
        "model = keras.Sequential()\r\n",
        "model.add(keras.layers.Conv2D(128, kernel_size=3, activation='relu', input_shape=input_shape))\r\n",
        "model.add(keras.layers.Conv2D(128, kernel_size=3, activation='relu'))\r\n",
        "model.add(keras.layers.MaxPooling2D(pool_size = (2, 2)))\r\n",
        "model.add(keras.layers.Dropout(0.15))\r\n",
        "model.add(keras.layers.Conv2D(256, kernel_size=3, activation='relu'))\r\n",
        "model.add(keras.layers.Conv2D(256, kernel_size=3, activation='relu'))\r\n",
        "model.add(keras.layers.MaxPooling2D(pool_size = (2, 2)))\r\n",
        "model.add(keras.layers.Dropout(0.20))\r\n",
        "model.add(keras.layers.Flatten())\r\n",
        "model.add(keras.layers.Dense(1024))\r\n",
        "model.add(keras.layers.Activation('relu'))\r\n",
        "model.add(keras.layers.Dropout(0.5))\r\n",
        "model.add(keras.layers.Dense(num_classes, activation='softmax'))\r\n",
        "\r\n",
        "\r\n",
        "'''\r\n",
        "# LSTM model\r\n",
        "\r\n",
        "input_shape = ( X_train.shape[1], X_train.shape[2]  )\r\n",
        "\r\n",
        "model = keras.Sequential()\r\n",
        "model.add(keras.layers.LSTM(256, input_shape=input_shape, return_sequences=False))\r\n",
        "model.add(keras.layers.Flatten())\r\n",
        "model.add(keras.layers.Dense(1024))\r\n",
        "model.add(keras.layers.Activation('relu'))\r\n",
        "model.add(keras.layers.Dropout(0.5))\r\n",
        "model.add(keras.layers.Dense(num_classes, activation='softmax'))\r\n",
        "'''\r\n",
        "\r\n",
        "\r\n",
        "'''\r\n",
        "# mix model\r\n",
        "\r\n",
        "input_cnn = ( X_train.shape[1], X_train.shape[2], 1  )\r\n",
        "input_lstm = ( X_train.shape[1], X_train.shape[2]  )\r\n",
        "\r\n",
        "X_train_c = np.expand_dims(X_train, axis=3)\r\n",
        "print( X_train.shape )\r\n",
        "X_test_c = np.expand_dims(X_test, axis=3)\r\n",
        "print( X_test.shape )\r\n",
        "\r\n",
        "\r\n",
        "cnn_in = keras.Input(shape=input_cnn)\r\n",
        "x = keras.layers.Conv2D(64, kernel_size=3, activation='relu')(cnn_in)\r\n",
        "x = keras.layers.Conv2D(64, kernel_size=3, activation='relu')(x)\r\n",
        "x = keras.layers.MaxPooling2D(pool_size = (2, 2))(x)\r\n",
        "x = keras.layers.Dropout(0.15)(x)\r\n",
        "x = keras.layers.Conv2D(128, kernel_size=3, activation='relu')(x)\r\n",
        "x = keras.layers.Conv2D(128, kernel_size=3, activation='relu')(x)\r\n",
        "x = keras.layers.MaxPooling2D(pool_size = (2, 2))(x)\r\n",
        "x = keras.layers.Dropout(0.20)(x)\r\n",
        "cnn_model = keras.layers.Flatten()(x)\r\n",
        "\r\n",
        "rnn_in = keras.Input(shape=input_lstm)\r\n",
        "x = keras.layers.LSTM(256, return_sequences=False)(rnn_in)\r\n",
        "x = keras.layers.Dropout(0.20)(x)\r\n",
        "rnn_model = keras.layers.Flatten()(x)\r\n",
        "\r\n",
        "x = keras.layers.Concatenate()([cnn_model, rnn_model])\r\n",
        "\r\n",
        "x = keras.layers.Dense(1024)(x)\r\n",
        "x = keras.layers.Activation('relu')(x)\r\n",
        "x = keras.layers.Dropout(0.5)(x)\r\n",
        "conc_model = keras.layers.Dense(num_classes, activation='softmax')(x)\r\n",
        "\r\n",
        "model = keras.Model(inputs=[cnn_in, rnn_in], outputs=conc_model)\r\n",
        "\r\n",
        "# for fit input, use\r\n",
        "# history = model.fit( [X_train_c, X_train], y_train, batch_size=batch_size, epochs=epochs, validation_split=0.2 )\r\n",
        "'''\r\n"
      ],
      "execution_count": null,
      "outputs": [
        {
          "output_type": "stream",
          "text": [
            "(1203, 173, 40, 1, 1)\n",
            "(64, 173, 40, 1, 1)\n"
          ],
          "name": "stdout"
        },
        {
          "output_type": "execute_result",
          "data": {
            "application/vnd.google.colaboratory.intrinsic+json": {
              "type": "string"
            },
            "text/plain": [
              "\"\\n# mix model\\n\\ninput_cnn = ( X_train.shape[1], X_train.shape[2], 1  )\\ninput_lstm = ( X_train.shape[1], X_train.shape[2]  )\\n\\nX_train_c = np.expand_dims(X_train, axis=3)\\nprint( X_train.shape )\\nX_test_c = np.expand_dims(X_test, axis=3)\\nprint( X_test.shape )\\n\\n\\ncnn_in = keras.Input(shape=input_cnn)\\nx = keras.layers.Conv2D(64, kernel_size=3, activation='relu')(cnn_in)\\nx = keras.layers.Conv2D(64, kernel_size=3, activation='relu')(x)\\nx = keras.layers.MaxPooling2D(pool_size = (2, 2))(x)\\nx = keras.layers.Dropout(0.15)(x)\\nx = keras.layers.Conv2D(128, kernel_size=3, activation='relu')(x)\\nx = keras.layers.Conv2D(128, kernel_size=3, activation='relu')(x)\\nx = keras.layers.MaxPooling2D(pool_size = (2, 2))(x)\\nx = keras.layers.Dropout(0.20)(x)\\ncnn_model = keras.layers.Flatten()(x)\\n\\nrnn_in = keras.Input(shape=input_lstm)\\nx = keras.layers.LSTM(256, return_sequences=False)(rnn_in)\\nx = keras.layers.Dropout(0.20)(x)\\nrnn_model = keras.layers.Flatten()(x)\\n\\nx = keras.layers.Concatenate()([cnn_model, rnn_model])\\n\\nx = keras.layers.Dense(1024)(x)\\nx = keras.layers.Activation('relu')(x)\\nx = keras.layers.Dropout(0.5)(x)\\nconc_model = keras.layers.Dense(num_classes, activation='softmax')(x)\\n\\nmodel = keras.Model(inputs=[cnn_in, rnn_in], outputs=conc_model)\\n\\n# for fit input, use\\n# history = model.fit( [X_train_c, X_train], y_train, batch_size=batch_size, epochs=epochs, validation_split=0.2 )\\n\""
            ]
          },
          "metadata": {
            "tags": []
          },
          "execution_count": 62
        }
      ]
    },
    {
      "cell_type": "code",
      "metadata": {
        "id": "owkjKkXshuek"
      },
      "source": [
        "batch_size = 64\r\n",
        "epochs = 20\r\n",
        "\r\n",
        "model.compile(loss=\"categorical_crossentropy\", optimizer='adam', metrics=[\"accuracy\"])"
      ],
      "execution_count": null,
      "outputs": []
    },
    {
      "cell_type": "code",
      "metadata": {
        "colab": {
          "base_uri": "https://localhost:8080/"
        },
        "id": "tQkPZWi22ybB",
        "outputId": "ea8a6ef6-dd6a-4244-e4e9-42f7f356ff7e"
      },
      "source": [
        "model.summary()"
      ],
      "execution_count": null,
      "outputs": [
        {
          "output_type": "stream",
          "text": [
            "Model: \"sequential_18\"\n",
            "_________________________________________________________________\n",
            "Layer (type)                 Output Shape              Param #   \n",
            "=================================================================\n",
            "conv2d_56 (Conv2D)           (None, 171, 38, 128)      1280      \n",
            "_________________________________________________________________\n",
            "conv2d_57 (Conv2D)           (None, 169, 36, 128)      147584    \n",
            "_________________________________________________________________\n",
            "max_pooling2d_28 (MaxPooling (None, 84, 18, 128)       0         \n",
            "_________________________________________________________________\n",
            "dropout_43 (Dropout)         (None, 84, 18, 128)       0         \n",
            "_________________________________________________________________\n",
            "conv2d_58 (Conv2D)           (None, 82, 16, 256)       295168    \n",
            "_________________________________________________________________\n",
            "conv2d_59 (Conv2D)           (None, 80, 14, 256)       590080    \n",
            "_________________________________________________________________\n",
            "max_pooling2d_29 (MaxPooling (None, 40, 7, 256)        0         \n",
            "_________________________________________________________________\n",
            "dropout_44 (Dropout)         (None, 40, 7, 256)        0         \n",
            "_________________________________________________________________\n",
            "flatten_23 (Flatten)         (None, 71680)             0         \n",
            "_________________________________________________________________\n",
            "dense_23 (Dense)             (None, 1024)              73401344  \n",
            "_________________________________________________________________\n",
            "activation_11 (Activation)   (None, 1024)              0         \n",
            "_________________________________________________________________\n",
            "dropout_45 (Dropout)         (None, 1024)              0         \n",
            "_________________________________________________________________\n",
            "dense_24 (Dense)             (None, 10)                10250     \n",
            "=================================================================\n",
            "Total params: 74,445,706\n",
            "Trainable params: 74,445,706\n",
            "Non-trainable params: 0\n",
            "_________________________________________________________________\n"
          ],
          "name": "stdout"
        }
      ]
    },
    {
      "cell_type": "code",
      "metadata": {
        "colab": {
          "base_uri": "https://localhost:8080/"
        },
        "id": "BGEfQONArbmg",
        "outputId": "1a6f45d9-06ad-4db5-997a-9938a9411f8b"
      },
      "source": [
        "history = model.fit(X_train, y_train, batch_size=batch_size, epochs=epochs, validation_split=0.2)"
      ],
      "execution_count": null,
      "outputs": [
        {
          "output_type": "stream",
          "text": [
            "Epoch 1/20\n",
            "16/16 [==============================] - 230s 14s/step - loss: 4.2637 - accuracy: 0.1666 - val_loss: 2.5234 - val_accuracy: 0.2905\n",
            "Epoch 2/20\n",
            "16/16 [==============================] - 225s 14s/step - loss: 2.2083 - accuracy: 0.2799 - val_loss: 2.0947 - val_accuracy: 0.3237\n",
            "Epoch 3/20\n",
            "16/16 [==============================] - 224s 14s/step - loss: 1.9615 - accuracy: 0.3506 - val_loss: 1.8318 - val_accuracy: 0.3610\n",
            "Epoch 4/20\n",
            "16/16 [==============================] - 225s 14s/step - loss: 1.7148 - accuracy: 0.3955 - val_loss: 1.6632 - val_accuracy: 0.4232\n",
            "Epoch 5/20\n",
            "16/16 [==============================] - 225s 14s/step - loss: 1.5739 - accuracy: 0.4170 - val_loss: 1.5350 - val_accuracy: 0.5228\n",
            "Epoch 6/20\n",
            "16/16 [==============================] - 224s 14s/step - loss: 1.4042 - accuracy: 0.5135 - val_loss: 1.4447 - val_accuracy: 0.5643\n",
            "Epoch 7/20\n",
            "16/16 [==============================] - 225s 14s/step - loss: 1.3121 - accuracy: 0.5402 - val_loss: 1.3579 - val_accuracy: 0.5602\n",
            "Epoch 8/20\n",
            "16/16 [==============================] - 225s 14s/step - loss: 1.1289 - accuracy: 0.5971 - val_loss: 1.4165 - val_accuracy: 0.5726\n",
            "Epoch 9/20\n",
            "16/16 [==============================] - 225s 14s/step - loss: 0.9926 - accuracy: 0.6591 - val_loss: 1.5622 - val_accuracy: 0.5436\n",
            "Epoch 10/20\n",
            "16/16 [==============================] - 225s 14s/step - loss: 0.8410 - accuracy: 0.7417 - val_loss: 1.5521 - val_accuracy: 0.5394\n",
            "Epoch 11/20\n",
            "16/16 [==============================] - 226s 14s/step - loss: 1.1415 - accuracy: 0.6108 - val_loss: 1.4681 - val_accuracy: 0.5602\n",
            "Epoch 12/20\n",
            "16/16 [==============================] - 226s 14s/step - loss: 0.8882 - accuracy: 0.7020 - val_loss: 1.5571 - val_accuracy: 0.6017\n",
            "Epoch 13/20\n",
            "16/16 [==============================] - 225s 14s/step - loss: 0.6969 - accuracy: 0.7697 - val_loss: 1.4658 - val_accuracy: 0.5892\n",
            "Epoch 14/20\n",
            "16/16 [==============================] - 226s 14s/step - loss: 0.5954 - accuracy: 0.8055 - val_loss: 1.6616 - val_accuracy: 0.6183\n",
            "Epoch 15/20\n",
            "16/16 [==============================] - 226s 14s/step - loss: 0.4027 - accuracy: 0.8571 - val_loss: 1.7266 - val_accuracy: 0.5726\n",
            "Epoch 16/20\n",
            "16/16 [==============================] - 225s 14s/step - loss: 0.4206 - accuracy: 0.8617 - val_loss: 1.9358 - val_accuracy: 0.5809\n",
            "Epoch 17/20\n",
            "16/16 [==============================] - 226s 14s/step - loss: 0.2833 - accuracy: 0.9053 - val_loss: 2.4071 - val_accuracy: 0.5726\n",
            "Epoch 18/20\n",
            "16/16 [==============================] - 226s 14s/step - loss: 0.2661 - accuracy: 0.9133 - val_loss: 1.9697 - val_accuracy: 0.6017\n",
            "Epoch 19/20\n",
            "16/16 [==============================] - 227s 14s/step - loss: 0.2767 - accuracy: 0.9144 - val_loss: 1.9307 - val_accuracy: 0.5934\n",
            "Epoch 20/20\n",
            "16/16 [==============================] - 225s 14s/step - loss: 0.1954 - accuracy: 0.9493 - val_loss: 2.3751 - val_accuracy: 0.5643\n"
          ],
          "name": "stdout"
        }
      ]
    },
    {
      "cell_type": "code",
      "metadata": {
        "colab": {
          "base_uri": "https://localhost:8080/",
          "height": 530
        },
        "id": "vOylTVU0uePh",
        "outputId": "db45975d-9933-4936-d8fc-4c20096e0ee6"
      },
      "source": [
        "train_accuracy = history.history['accuracy']\r\n",
        "val_accuracy = history.history['val_accuracy']\r\n",
        "# Set figure size.\r\n",
        "plt.figure(figsize=(12, 8))\r\n",
        "# Generate line plot of training, testing loss over epochs.\r\n",
        "plt.plot(train_accuracy, label='Training acc', color='#185fad')\r\n",
        "plt.plot(val_accuracy, label='Validation acc', color='orange')\r\n",
        "# Set title\r\n",
        "plt.title('Training and Validation Accuracy by Epoch', fontsize = 25)\r\n",
        "plt.xlabel('Epoch', fontsize = 18)\r\n",
        "plt.xticks(range(0,100,5), range(0,100,5))\r\n",
        "plt.legend(fontsize = 18);"
      ],
      "execution_count": null,
      "outputs": [
        {
          "output_type": "display_data",
          "data": {
            "image/png": "[encoded data removed]",
            "text/plain": [
              "<Figure size 864x576 with 1 Axes>"
            ]
          },
          "metadata": {
            "tags": [],
            "needs_background": "light"
          }
        }
      ]
    },
    {
      "cell_type": "code",
      "metadata": {
        "id": "Is5JYG9ADc_d"
      },
      "source": [
        "# Save model for inference\r\n",
        "model.save(PATH_DRIVE+'audio_classificator_cnn_model_v1.h5')"
      ],
      "execution_count": null,
      "outputs": []
    }
  ]
}