{
  "nbformat": 4,
  "nbformat_minor": 0,
  "metadata": {
    "accelerator": "GPU",
    "colab": {
      "name": "data_trainning.ipynb",
      "provenance": [],
      "collapsed_sections": [],
      "include_colab_link": true
    },
    "kernelspec": {
      "display_name": "Python 3",
      "name": "python3"
    }
  },
  "cells": [
    {
      "cell_type": "markdown",
      "metadata": {
        "id": "view-in-github",
        "colab_type": "text"
      },
      "source": [
        "<a href=\"https://colab.research.google.com/github/jacr2006/AICamera/blob/master/Notebooks/CNN/data_trainning.ipynb\" target=\"_parent\"><img src=\"https://colab.research.google.com/assets/colab-badge.svg\" alt=\"Open In Colab\"/></a>"
      ]
    },
    {
      "cell_type": "markdown",
      "metadata": {
        "id": "YQfos1QVzkK8"
      },
      "source": [
        "This notebook extract mid-term features from labeled audio files (.wav), and create a matrix of features and a vector of classes. Next, a trainning using a CNN is done. The model obtained is used for testing."
      ]
    },
    {
      "cell_type": "code",
      "metadata": {
        "colab": {
          "base_uri": "https://localhost:8080/"
        },
        "id": "jn4ZdW95auL6",
        "outputId": "acd8adea-25c2-48d1-cb9c-816324fd4d70"
      },
      "source": [
        "!pip install torchaudio"
      ],
      "execution_count": 1,
      "outputs": [
        {
          "output_type": "stream",
          "text": [
            "Collecting torchaudio\n",
            "\u001b[?25l  Downloading https://files.pythonhosted.org/packages/2a/f9/618434cf4e46dc975871e1516f5499abef6564ab4366f9b2321ee536be14/torchaudio-0.7.2-cp36-cp36m-manylinux1_x86_64.whl (7.6MB)\n",
            "\u001b[K     |████████████████████████████████| 7.6MB 13.5MB/s \n",
            "\u001b[?25hCollecting torch==1.7.1\n",
            "\u001b[?25l  Downloading https://files.pythonhosted.org/packages/90/4f/acf48b3a18a8f9223c6616647f0a011a5713a985336088d7c76f3a211374/torch-1.7.1-cp36-cp36m-manylinux1_x86_64.whl (776.8MB)\n",
            "\u001b[K     |████████████████████████████████| 776.8MB 24kB/s \n",
            "\u001b[?25hRequirement already satisfied: typing-extensions in /usr/local/lib/python3.6/dist-packages (from torch==1.7.1->torchaudio) (3.7.4.3)\n",
            "Requirement already satisfied: dataclasses; python_version < \"3.7\" in /usr/local/lib/python3.6/dist-packages (from torch==1.7.1->torchaudio) (0.8)\n",
            "Requirement already satisfied: numpy in /usr/local/lib/python3.6/dist-packages (from torch==1.7.1->torchaudio) (1.19.5)\n",
            "\u001b[31mERROR: torchvision 0.8.1+cu101 has requirement torch==1.7.0, but you'll have torch 1.7.1 which is incompatible.\u001b[0m\n",
            "Installing collected packages: torch, torchaudio\n",
            "  Found existing installation: torch 1.7.0+cu101\n",
            "    Uninstalling torch-1.7.0+cu101:\n",
            "      Successfully uninstalled torch-1.7.0+cu101\n",
            "Successfully installed torch-1.7.1 torchaudio-0.7.2\n"
          ],
          "name": "stdout"
        }
      ]
    },
    {
      "cell_type": "code",
      "metadata": {
        "colab": {
          "base_uri": "https://localhost:8080/"
        },
        "id": "hQjlXU_-a2q-",
        "outputId": "626f49e4-8132-48f6-fc88-a12d6b33032c"
      },
      "source": [
        "import torchaudio.transforms\r\n",
        "import torch\r\n",
        "\r\n",
        "import matplotlib.pyplot as plt\r\n",
        "import os\r\n",
        "import numpy as np\r\n",
        "import pandas as pd\r\n",
        "import IPython.display as ipd\r\n",
        "\r\n",
        "import shutil\r\n",
        "\r\n",
        "import librosa\r\n",
        "\r\n",
        "from sklearn.model_selection import train_test_split\r\n",
        "from sklearn import svm\r\n",
        "from sklearn.svm import SVC\r\n",
        "from sklearn import metrics\r\n",
        "from sklearn import preprocessing\r\n",
        "\r\n",
        "import pickle\r\n",
        "\r\n",
        "from tensorflow import keras\r\n",
        "from tensorflow.keras import layers"
      ],
      "execution_count": 2,
      "outputs": [
        {
          "output_type": "stream",
          "text": [
            "/usr/local/lib/python3.6/dist-packages/torchaudio/backend/utils.py:54: UserWarning: \"sox\" backend is being deprecated. The default backend will be changed to \"sox_io\" backend in 0.8.0 and \"sox\" backend will be removed in 0.9.0. Please migrate to \"sox_io\" backend. Please refer to https://github.com/pytorch/audio/issues/903 for the detail.\n",
            "  '\"sox\" backend is being deprecated. '\n"
          ],
          "name": "stderr"
        }
      ]
    },
    {
      "cell_type": "code",
      "metadata": {
        "colab": {
          "base_uri": "https://localhost:8080/"
        },
        "id": "hiJk1zD2L2-G",
        "outputId": "5909f19d-e49c-4283-fd49-31d8205ee966"
      },
      "source": [
        "from google.colab import drive\n",
        "drive.mount('/content/drive')"
      ],
      "execution_count": 3,
      "outputs": [
        {
          "output_type": "stream",
          "text": [
            "Mounted at /content/drive\n"
          ],
          "name": "stdout"
        }
      ]
    },
    {
      "cell_type": "code",
      "metadata": {
        "id": "CGbZT1PLEkdR"
      },
      "source": [
        "# source file directory\n",
        "PATH_DRIVE = '/content/drive/MyDrive/Colab Notebooks/'"
      ],
      "execution_count": 5,
      "outputs": []
    },
    {
      "cell_type": "markdown",
      "metadata": {
        "id": "r2Ya894jJ8Bj"
      },
      "source": [
        "## Training"
      ]
    },
    {
      "cell_type": "code",
      "metadata": {
        "id": "dJR9DrlsTzXe"
      },
      "source": [
        "f_train = np.load(PATH_DRIVE + \"f_train.npy\", allow_pickle=True)\r\n",
        "f_avg_train = np.load(PATH_DRIVE + \"f_avg_train.npy\", allow_pickle=True)\r\n",
        "c_train = np.load(PATH_DRIVE + \"c_train.npy\", allow_pickle=True)\r\n",
        "\r\n",
        "f_val = np.load(PATH_DRIVE + \"f_val.npy\", allow_pickle=True)\r\n",
        "f_avg_val = np.load(PATH_DRIVE + \"f_avg_val.npy\", allow_pickle=True)\r\n",
        "c_val = np.load(PATH_DRIVE + \"c_val.npy\", allow_pickle=True)"
      ],
      "execution_count": 6,
      "outputs": []
    },
    {
      "cell_type": "code",
      "metadata": {
        "colab": {
          "base_uri": "https://localhost:8080/"
        },
        "id": "M_94dJNOZ85L",
        "outputId": "03e15be2-6da7-486d-9a1a-a40d29023fe9"
      },
      "source": [
        "print( f_train.shape )\r\n",
        "print( f_val.shape )"
      ],
      "execution_count": 8,
      "outputs": [
        {
          "output_type": "stream",
          "text": [
            "(1200, 345, 40)\n",
            "(216, 345, 40)\n"
          ],
          "name": "stdout"
        }
      ]
    },
    {
      "cell_type": "code",
      "metadata": {
        "id": "yb44N615eJcN"
      },
      "source": [
        "#from sklearn.preprocessing import StandardScaler\r\n",
        "\r\n",
        "#ss = StandardScaler()\r\n",
        "#f_train = ss.fit_transform(f_train.reshape(-1, f_train.shape[-1])).reshape(f_train.shape)"
      ],
      "execution_count": null,
      "outputs": []
    },
    {
      "cell_type": "code",
      "metadata": {
        "id": "kVm-ouhokU9E"
      },
      "source": [
        "#data standarization\n",
        "#ff = preprocessing.scale(f)\n",
        "\n",
        "#data scalling (min-max) for improve prediction accurancy\n",
        "#min_max_scaler = preprocessing.MinMaxScaler()\n",
        "#ff = min_max_scaler.fit_transform( f.reshape(-1, f.shape[-1]) ).reshape(f.shape)"
      ],
      "execution_count": null,
      "outputs": []
    },
    {
      "cell_type": "code",
      "metadata": {
        "id": "nqep5A9ia1vh"
      },
      "source": [
        "#ff.shape"
      ],
      "execution_count": null,
      "outputs": []
    },
    {
      "cell_type": "code",
      "metadata": {
        "colab": {
          "base_uri": "https://localhost:8080/"
        },
        "id": "UB2pZhp3xwmI",
        "outputId": "38a80b81-7e1f-413d-f72a-e325db4ef8b8"
      },
      "source": [
        "from sklearn.preprocessing import LabelEncoder\r\n",
        "from keras.utils import to_categorical\r\n",
        "from keras.regularizers import l2\r\n",
        "\r\n",
        "# Encode the classification labels to one-hot\r\n",
        "le = LabelEncoder()\r\n",
        "cc_train = to_categorical(le.fit_transform(c_train)) \r\n",
        "print( cc_train.shape )\r\n",
        "\r\n",
        "cc_val = to_categorical(le.fit_transform(c_val)) \r\n",
        "print( cc_val.shape )"
      ],
      "execution_count": 11,
      "outputs": [
        {
          "output_type": "stream",
          "text": [
            "(1200, 4)\n",
            "(216, 4)\n"
          ],
          "name": "stdout"
        }
      ]
    },
    {
      "cell_type": "code",
      "metadata": {
        "id": "TLFJGHW_yN7r"
      },
      "source": [
        "# Classes according Urban Dataset\r\n",
        "num_classes = 4"
      ],
      "execution_count": 12,
      "outputs": []
    },
    {
      "cell_type": "code",
      "metadata": {
        "id": "_wa1j-SdDgn7"
      },
      "source": [
        "# Training and test split \r\n",
        "# X_train, X_test, y_train, y_test = train_test_split(f, cc, test_size=0.05,random_state=0) # 95% for training - 5% for  testing\r\n",
        "X_train, X_val, y_train, y_val = f_train, f_val, cc_train, cc_val"
      ],
      "execution_count": 69,
      "outputs": []
    },
    {
      "cell_type": "code",
      "metadata": {
        "colab": {
          "base_uri": "https://localhost:8080/"
        },
        "id": "DYFvEBHZHFoE",
        "outputId": "c7ce1e24-ff47-4ab5-e506-0cb15b4d3721"
      },
      "source": [
        "print( X_train.shape )\r\n",
        "print( X_val.shape )"
      ],
      "execution_count": 70,
      "outputs": [
        {
          "output_type": "stream",
          "text": [
            "(1200, 345, 40)\n",
            "(216, 345, 40)\n"
          ],
          "name": "stdout"
        }
      ]
    },
    {
      "cell_type": "code",
      "metadata": {
        "colab": {
          "base_uri": "https://localhost:8080/",
          "height": 160
        },
        "id": "7_mazvemp2CF",
        "outputId": "a1fbd8cd-1ce6-4f64-98b8-95f930c15f67"
      },
      "source": [
        "# Model\r\n",
        "\r\n",
        "\r\n",
        "# cnn model\r\n",
        "'''\r\n",
        "input_shape = ( X_train.shape[1], X_train.shape[2], 1  )\r\n",
        "\r\n",
        "X_train = np.expand_dims(X_train, axis=3)\r\n",
        "print( X_train.shape )\r\n",
        "X_val = np.expand_dims(X_val, axis=3)\r\n",
        "print( X_val.shape )\r\n",
        "\r\n",
        "model =  keras.Sequential()\r\n",
        "model.add(keras.layers.Conv2D(32, kernel_size=(3, 3), activation='relu', input_shape=input_shape))\r\n",
        "model.add(keras.layers.Conv2D(64, kernel_size=(3, 3), activation='relu'))\r\n",
        "model.add(keras.layers.MaxPooling2D(pool_size=(2, 2)))\r\n",
        "model.add(keras.layers.Dropout(0.25))\r\n",
        "model.add(keras.layers.Flatten())\r\n",
        "model.add(keras.layers.Dense(128, activation='relu'))\r\n",
        "model.add(keras.layers.Dropout(0.5))\r\n",
        "model.add(keras.layers.Dense(num_classes, activation='softmax'))\r\n",
        "'''\r\n",
        "\r\n",
        "pool_size = (2, 2)\r\n",
        "kernel_size = (3, 3)\r\n",
        "\r\n",
        "input_shape = ( X_train.shape[1], X_train.shape[2], 1  )\r\n",
        "\r\n",
        "X_train = np.expand_dims(X_train, axis=3)\r\n",
        "print( X_train.shape )\r\n",
        "X_val = np.expand_dims(X_val, axis=3)\r\n",
        "print( X_val.shape )\r\n",
        "\r\n",
        "model = keras.models.Sequential()\r\n",
        "model.add(keras.layers.Conv2D(128, kernel_size=kernel_size, padding=\"same\", input_shape=input_shape))\r\n",
        "model.add(keras.layers.BatchNormalization())\r\n",
        "model.add(keras.layers.Activation(\"relu\"))\r\n",
        "model.add(keras.layers.MaxPooling2D(pool_size=pool_size))\r\n",
        "\r\n",
        "model.add(keras.layers.Conv2D(28, kernel_size=kernel_size, padding=\"same\"))\r\n",
        "model.add(keras.layers.BatchNormalization())\r\n",
        "model.add(keras.layers.Activation(\"relu\"))\r\n",
        "model.add(keras.layers.MaxPooling2D(pool_size=pool_size))\r\n",
        "\r\n",
        "model.add(keras.layers.Conv2D(256, kernel_size=kernel_size, padding=\"same\"))\r\n",
        "model.add(keras.layers.BatchNormalization())\r\n",
        "model.add(keras.layers.Activation(\"relu\"))\r\n",
        "model.add(keras.layers.MaxPooling2D(pool_size=pool_size))\r\n",
        "\r\n",
        "model.add(keras.layers.Conv2D(256, kernel_size=kernel_size, padding=\"same\"))\r\n",
        "model.add(keras.layers.BatchNormalization())\r\n",
        "model.add(keras.layers.Activation(\"relu\"))\r\n",
        "\r\n",
        "model.add(keras.layers.GlobalMaxPooling2D())\r\n",
        "model.add(keras.layers.Dense(512, activation=\"relu\"))\r\n",
        "model.add(keras.layers.Dense(num_classes, activation=\"softmax\"))\r\n",
        "\r\n",
        "\r\n",
        "'''\r\n",
        "# LSTM model\r\n",
        "#X_train = np.expand_dims(X_train, axis=3)\r\n",
        "print( X_train.shape )\r\n",
        "#X_val = np.expand_dims(X_val, axis=3)\r\n",
        "print( X_val.shape )\r\n",
        "\r\n",
        "input_shape = ( X_train.shape[1], X_train.shape[2]  )\r\n",
        "\r\n",
        "model = keras.Sequential()\r\n",
        "model.add(keras.layers.LSTM(256, input_shape=input_shape, return_sequences=False))\r\n",
        "model.add(keras.layers.Flatten())\r\n",
        "model.add(keras.layers.Dense(1024))\r\n",
        "model.add(keras.layers.Activation('relu'))\r\n",
        "model.add(keras.layers.Dropout(0.5))\r\n",
        "model.add(keras.layers.Dense(num_classes, activation='softmax'))\r\n",
        "'''\r\n",
        "\r\n",
        "'''\r\n",
        "# mix model\r\n",
        "\r\n",
        "input_cnn = ( X_train.shape[1], X_train.shape[2], 1  )\r\n",
        "input_lstm = ( X_train.shape[1], X_train.shape[2]  )\r\n",
        "\r\n",
        "X_train_c = np.expand_dims(X_train, axis=3)\r\n",
        "print( X_train.shape )\r\n",
        "X_val_c = np.expand_dims(X_val, axis=3)\r\n",
        "print( X_val.shape )\r\n",
        "\r\n",
        "\r\n",
        "cnn_in = keras.Input(shape=input_cnn)\r\n",
        "x = keras.layers.Conv2D(64, kernel_size=3, activation='relu')(cnn_in)\r\n",
        "x = keras.layers.Conv2D(64, kernel_size=3, activation='relu')(x)\r\n",
        "x = keras.layers.MaxPooling2D(pool_size = (2, 2))(x)\r\n",
        "x = keras.layers.Dropout(0.15)(x)\r\n",
        "x = keras.layers.Conv2D(128, kernel_size=3, activation='relu')(x)\r\n",
        "x = keras.layers.Conv2D(128, kernel_size=3, activation='relu')(x)\r\n",
        "x = keras.layers.MaxPooling2D(pool_size = (2, 2))(x)\r\n",
        "x = keras.layers.Dropout(0.20)(x)\r\n",
        "cnn_model = keras.layers.Flatten()(x)\r\n",
        "\r\n",
        "rnn_in = keras.Input(shape=input_lstm)\r\n",
        "x = keras.layers.LSTM(256, return_sequences=False)(rnn_in)\r\n",
        "x = keras.layers.Dropout(0.20)(x)\r\n",
        "rnn_model = keras.layers.Flatten()(x)\r\n",
        "\r\n",
        "x = keras.layers.Concatenate()([cnn_model, rnn_model])\r\n",
        "\r\n",
        "x = keras.layers.Dense(1024)(x)\r\n",
        "x = keras.layers.Activation('relu')(x)\r\n",
        "x = keras.layers.Dropout(0.5)(x)\r\n",
        "conc_model = keras.layers.Dense(num_classes, activation='softmax')(x)\r\n",
        "\r\n",
        "model = keras.Model(inputs=[cnn_in, rnn_in], outputs=conc_model)\r\n",
        "\r\n",
        "# for fit input, use\r\n",
        "# history = model.fit( [X_train_c, X_train], y_train, batch_size=batch_size, epochs=epochs, validation_split=0.2 )\r\n",
        "'''\r\n"
      ],
      "execution_count": 71,
      "outputs": [
        {
          "output_type": "stream",
          "text": [
            "(1200, 345, 40, 1)\n",
            "(216, 345, 40, 1)\n"
          ],
          "name": "stdout"
        },
        {
          "output_type": "execute_result",
          "data": {
            "application/vnd.google.colaboratory.intrinsic+json": {
              "type": "string"
            },
            "text/plain": [
              "\"\\n# mix model\\n\\ninput_cnn = ( X_train.shape[1], X_train.shape[2], 1  )\\ninput_lstm = ( X_train.shape[1], X_train.shape[2]  )\\n\\nX_train_c = np.expand_dims(X_train, axis=3)\\nprint( X_train.shape )\\nX_val_c = np.expand_dims(X_val, axis=3)\\nprint( X_val.shape )\\n\\n\\ncnn_in = keras.Input(shape=input_cnn)\\nx = keras.layers.Conv2D(64, kernel_size=3, activation='relu')(cnn_in)\\nx = keras.layers.Conv2D(64, kernel_size=3, activation='relu')(x)\\nx = keras.layers.MaxPooling2D(pool_size = (2, 2))(x)\\nx = keras.layers.Dropout(0.15)(x)\\nx = keras.layers.Conv2D(128, kernel_size=3, activation='relu')(x)\\nx = keras.layers.Conv2D(128, kernel_size=3, activation='relu')(x)\\nx = keras.layers.MaxPooling2D(pool_size = (2, 2))(x)\\nx = keras.layers.Dropout(0.20)(x)\\ncnn_model = keras.layers.Flatten()(x)\\n\\nrnn_in = keras.Input(shape=input_lstm)\\nx = keras.layers.LSTM(256, return_sequences=False)(rnn_in)\\nx = keras.layers.Dropout(0.20)(x)\\nrnn_model = keras.layers.Flatten()(x)\\n\\nx = keras.layers.Concatenate()([cnn_model, rnn_model])\\n\\nx = keras.layers.Dense(1024)(x)\\nx = keras.layers.Activation('relu')(x)\\nx = keras.layers.Dropout(0.5)(x)\\nconc_model = keras.layers.Dense(num_classes, activation='softmax')(x)\\n\\nmodel = keras.Model(inputs=[cnn_in, rnn_in], outputs=conc_model)\\n\\n# for fit input, use\\n# history = model.fit( [X_train_c, X_train], y_train, batch_size=batch_size, epochs=epochs, validation_split=0.2 )\\n\""
            ]
          },
          "metadata": {
            "tags": []
          },
          "execution_count": 71
        }
      ]
    },
    {
      "cell_type": "code",
      "metadata": {
        "id": "owkjKkXshuek",
        "colab": {
          "base_uri": "https://localhost:8080/"
        },
        "outputId": "f8fb297f-ac9d-4a68-bf13-439d33608154"
      },
      "source": [
        "batch_size = 16\r\n",
        "epochs = 10\r\n",
        "opt = keras.optimizers.Adam( learning_rate=0.0001 )\r\n",
        "model.compile( loss=\"categorical_crossentropy\", optimizer=opt, metrics=[\"accuracy\"] )\r\n",
        "model.summary()"
      ],
      "execution_count": 72,
      "outputs": [
        {
          "output_type": "stream",
          "text": [
            "Model: \"sequential_8\"\n",
            "_________________________________________________________________\n",
            "Layer (type)                 Output Shape              Param #   \n",
            "=================================================================\n",
            "conv2d_22 (Conv2D)           (None, 345, 40, 128)      1280      \n",
            "_________________________________________________________________\n",
            "batch_normalization_16 (Batc (None, 345, 40, 128)      512       \n",
            "_________________________________________________________________\n",
            "activation_16 (Activation)   (None, 345, 40, 128)      0         \n",
            "_________________________________________________________________\n",
            "max_pooling2d_15 (MaxPooling (None, 172, 20, 128)      0         \n",
            "_________________________________________________________________\n",
            "conv2d_23 (Conv2D)           (None, 172, 20, 28)       32284     \n",
            "_________________________________________________________________\n",
            "batch_normalization_17 (Batc (None, 172, 20, 28)       112       \n",
            "_________________________________________________________________\n",
            "activation_17 (Activation)   (None, 172, 20, 28)       0         \n",
            "_________________________________________________________________\n",
            "max_pooling2d_16 (MaxPooling (None, 86, 10, 28)        0         \n",
            "_________________________________________________________________\n",
            "conv2d_24 (Conv2D)           (None, 86, 10, 256)       64768     \n",
            "_________________________________________________________________\n",
            "batch_normalization_18 (Batc (None, 86, 10, 256)       1024      \n",
            "_________________________________________________________________\n",
            "activation_18 (Activation)   (None, 86, 10, 256)       0         \n",
            "_________________________________________________________________\n",
            "max_pooling2d_17 (MaxPooling (None, 43, 5, 256)        0         \n",
            "_________________________________________________________________\n",
            "conv2d_25 (Conv2D)           (None, 43, 5, 256)        590080    \n",
            "_________________________________________________________________\n",
            "batch_normalization_19 (Batc (None, 43, 5, 256)        1024      \n",
            "_________________________________________________________________\n",
            "activation_19 (Activation)   (None, 43, 5, 256)        0         \n",
            "_________________________________________________________________\n",
            "global_max_pooling2d_4 (Glob (None, 256)               0         \n",
            "_________________________________________________________________\n",
            "dense_14 (Dense)             (None, 512)               131584    \n",
            "_________________________________________________________________\n",
            "dense_15 (Dense)             (None, 4)                 2052      \n",
            "=================================================================\n",
            "Total params: 824,720\n",
            "Trainable params: 823,384\n",
            "Non-trainable params: 1,336\n",
            "_________________________________________________________________\n"
          ],
          "name": "stdout"
        }
      ]
    },
    {
      "cell_type": "code",
      "metadata": {
        "colab": {
          "base_uri": "https://localhost:8080/"
        },
        "id": "BGEfQONArbmg",
        "outputId": "5ad98d4f-e25a-4c75-b92e-9e00c9e8226b"
      },
      "source": [
        "history = model.fit( X_train, y_train, batch_size=batch_size, epochs=epochs, validation_data=(X_val, y_val), shuffle=True )"
      ],
      "execution_count": 73,
      "outputs": [
        {
          "output_type": "stream",
          "text": [
            "Epoch 1/10\n",
            "75/75 [==============================] - 3s 29ms/step - loss: 0.9755 - accuracy: 0.6605 - val_loss: 1.0309 - val_accuracy: 0.6111\n",
            "Epoch 2/10\n",
            "75/75 [==============================] - 2s 25ms/step - loss: 0.2327 - accuracy: 0.9327 - val_loss: 0.7299 - val_accuracy: 0.7593\n",
            "Epoch 3/10\n",
            "75/75 [==============================] - 2s 26ms/step - loss: 0.1272 - accuracy: 0.9679 - val_loss: 0.4984 - val_accuracy: 0.8287\n",
            "Epoch 4/10\n",
            "75/75 [==============================] - 2s 25ms/step - loss: 0.1133 - accuracy: 0.9641 - val_loss: 0.4158 - val_accuracy: 0.8796\n",
            "Epoch 5/10\n",
            "75/75 [==============================] - 2s 25ms/step - loss: 0.0741 - accuracy: 0.9722 - val_loss: 0.3874 - val_accuracy: 0.8750\n",
            "Epoch 6/10\n",
            "75/75 [==============================] - 2s 26ms/step - loss: 0.0399 - accuracy: 0.9901 - val_loss: 0.3732 - val_accuracy: 0.8704\n",
            "Epoch 7/10\n",
            "75/75 [==============================] - 2s 26ms/step - loss: 0.0359 - accuracy: 0.9927 - val_loss: 0.5068 - val_accuracy: 0.8565\n",
            "Epoch 8/10\n",
            "75/75 [==============================] - 2s 25ms/step - loss: 0.0197 - accuracy: 0.9999 - val_loss: 0.4418 - val_accuracy: 0.8750\n",
            "Epoch 9/10\n",
            "75/75 [==============================] - 2s 26ms/step - loss: 0.0124 - accuracy: 0.9992 - val_loss: 0.4160 - val_accuracy: 0.8750\n",
            "Epoch 10/10\n",
            "75/75 [==============================] - 2s 25ms/step - loss: 0.0046 - accuracy: 1.0000 - val_loss: 0.3975 - val_accuracy: 0.8981\n"
          ],
          "name": "stdout"
        }
      ]
    },
    {
      "cell_type": "code",
      "metadata": {
        "colab": {
          "base_uri": "https://localhost:8080/",
          "height": 530
        },
        "id": "vOylTVU0uePh",
        "outputId": "11fd18ef-ed05-4d18-b41b-1a635300c0ad"
      },
      "source": [
        "train_accuracy = history.history['accuracy']\r\n",
        "val_accuracy = history.history['val_accuracy']\r\n",
        "# Set figure size.\r\n",
        "plt.figure(figsize=(12, 8))\r\n",
        "# Generate line plot of training, testing loss over epochs.\r\n",
        "plt.plot(train_accuracy, label='Training acc', color='#185fad')\r\n",
        "plt.plot(val_accuracy, label='Validation acc', color='orange')\r\n",
        "# Set title\r\n",
        "plt.title('Training and Validation Accuracy by Epoch', fontsize = 25)\r\n",
        "plt.xlabel('Epoch', fontsize = 18)\r\n",
        "plt.xticks(range(0,10,1), range(0,10,1))\r\n",
        "plt.legend(fontsize = 18);"
      ],
      "execution_count": 76,
      "outputs": [
        {
          "output_type": "display_data",
          "data": {
            "image/png": "[encoded data removed]",
            "text/plain": [
              "<Figure size 864x576 with 1 Axes>"
            ]
          },
          "metadata": {
            "tags": [],
            "needs_background": "light"
          }
        }
      ]
    },
    {
      "cell_type": "code",
      "metadata": {
        "id": "Is5JYG9ADc_d"
      },
      "source": [
        "# Save model for inference\r\n",
        "model.save(PATH_DRIVE+'audio_classificator_cnn_model_v2.h5')"
      ],
      "execution_count": 77,
      "outputs": []
    }
  ]
}